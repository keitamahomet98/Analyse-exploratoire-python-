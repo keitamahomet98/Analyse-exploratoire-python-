{
 "cells": [
  {
   "cell_type": "code",
   "execution_count": 9,
   "id": "9f9530b2",
   "metadata": {},
   "outputs": [],
   "source": [
    "import pandas as pd \n",
    "\n",
    "# je procède a l'importation de mon fichier CSV\n",
    "df = pd.read_csv('/Users/mahometkeita/Desktop/VENTES BMW (2010-2024) EDA/BMW sales data (2010-2024).csv')"
   ]
  },
  {
   "cell_type": "code",
   "execution_count": 6,
   "id": "f9fbeb01",
   "metadata": {},
   "outputs": [],
   "source": [
    "# importation des bibliothèque importante \n",
    "import numpy as np  \n",
    "import matplotlib.pyplot as plt \n",
    "import seaborn as sns   \n",
    "import statsmodels.api as sm\n",
    "import statsmodels.formula.api as smf\n",
    "import pandas as pd "
   ]
  },
  {
   "cell_type": "code",
   "execution_count": 22,
   "id": "c6163e80",
   "metadata": {},
   "outputs": [
    {
     "data": {
      "text/html": [
       "<div>\n",
       "<style scoped>\n",
       "    .dataframe tbody tr th:only-of-type {\n",
       "        vertical-align: middle;\n",
       "    }\n",
       "\n",
       "    .dataframe tbody tr th {\n",
       "        vertical-align: top;\n",
       "    }\n",
       "\n",
       "    .dataframe thead th {\n",
       "        text-align: right;\n",
       "    }\n",
       "</style>\n",
       "<table border=\"1\" class=\"dataframe\">\n",
       "  <thead>\n",
       "    <tr style=\"text-align: right;\">\n",
       "      <th></th>\n",
       "      <th>Model</th>\n",
       "      <th>Year</th>\n",
       "      <th>Region</th>\n",
       "      <th>Color</th>\n",
       "      <th>Fuel_Type</th>\n",
       "      <th>Transmission</th>\n",
       "      <th>Engine_Size_L</th>\n",
       "      <th>Mileage_KM</th>\n",
       "      <th>Price_USD</th>\n",
       "      <th>Sales_Volume</th>\n",
       "      <th>Sales_Classification</th>\n",
       "    </tr>\n",
       "  </thead>\n",
       "  <tbody>\n",
       "    <tr>\n",
       "      <th>0</th>\n",
       "      <td>5 Series</td>\n",
       "      <td>2016</td>\n",
       "      <td>Asia</td>\n",
       "      <td>Red</td>\n",
       "      <td>Petrol</td>\n",
       "      <td>Manual</td>\n",
       "      <td>3.5</td>\n",
       "      <td>151748</td>\n",
       "      <td>98740</td>\n",
       "      <td>8300</td>\n",
       "      <td>High</td>\n",
       "    </tr>\n",
       "    <tr>\n",
       "      <th>1</th>\n",
       "      <td>i8</td>\n",
       "      <td>2013</td>\n",
       "      <td>North America</td>\n",
       "      <td>Red</td>\n",
       "      <td>Hybrid</td>\n",
       "      <td>Automatic</td>\n",
       "      <td>1.6</td>\n",
       "      <td>121671</td>\n",
       "      <td>79219</td>\n",
       "      <td>3428</td>\n",
       "      <td>Low</td>\n",
       "    </tr>\n",
       "    <tr>\n",
       "      <th>2</th>\n",
       "      <td>5 Series</td>\n",
       "      <td>2022</td>\n",
       "      <td>North America</td>\n",
       "      <td>Blue</td>\n",
       "      <td>Petrol</td>\n",
       "      <td>Automatic</td>\n",
       "      <td>4.5</td>\n",
       "      <td>10991</td>\n",
       "      <td>113265</td>\n",
       "      <td>6994</td>\n",
       "      <td>Low</td>\n",
       "    </tr>\n",
       "    <tr>\n",
       "      <th>3</th>\n",
       "      <td>X3</td>\n",
       "      <td>2024</td>\n",
       "      <td>Middle East</td>\n",
       "      <td>Blue</td>\n",
       "      <td>Petrol</td>\n",
       "      <td>Automatic</td>\n",
       "      <td>1.7</td>\n",
       "      <td>27255</td>\n",
       "      <td>60971</td>\n",
       "      <td>4047</td>\n",
       "      <td>Low</td>\n",
       "    </tr>\n",
       "    <tr>\n",
       "      <th>4</th>\n",
       "      <td>7 Series</td>\n",
       "      <td>2020</td>\n",
       "      <td>South America</td>\n",
       "      <td>Black</td>\n",
       "      <td>Diesel</td>\n",
       "      <td>Manual</td>\n",
       "      <td>2.1</td>\n",
       "      <td>122131</td>\n",
       "      <td>49898</td>\n",
       "      <td>3080</td>\n",
       "      <td>Low</td>\n",
       "    </tr>\n",
       "  </tbody>\n",
       "</table>\n",
       "</div>"
      ],
      "text/plain": [
       "      Model  Year         Region  Color Fuel_Type Transmission  Engine_Size_L  \\\n",
       "0  5 Series  2016           Asia    Red    Petrol       Manual            3.5   \n",
       "1        i8  2013  North America    Red    Hybrid    Automatic            1.6   \n",
       "2  5 Series  2022  North America   Blue    Petrol    Automatic            4.5   \n",
       "3        X3  2024    Middle East   Blue    Petrol    Automatic            1.7   \n",
       "4  7 Series  2020  South America  Black    Diesel       Manual            2.1   \n",
       "\n",
       "   Mileage_KM  Price_USD  Sales_Volume Sales_Classification  \n",
       "0      151748      98740          8300                 High  \n",
       "1      121671      79219          3428                  Low  \n",
       "2       10991     113265          6994                  Low  \n",
       "3       27255      60971          4047                  Low  \n",
       "4      122131      49898          3080                  Low  "
      ]
     },
     "execution_count": 22,
     "metadata": {},
     "output_type": "execute_result"
    }
   ],
   "source": [
    "# Affiche les premières lignes du DataFrame pour vérification\n",
    "df.head()"
   ]
  },
  {
   "cell_type": "code",
   "execution_count": 28,
   "id": "3b55c1d5",
   "metadata": {},
   "outputs": [
    {
     "data": {
      "text/plain": [
       "(50000, 11)"
      ]
     },
     "execution_count": 28,
     "metadata": {},
     "output_type": "execute_result"
    }
   ],
   "source": [
    "# Visibilité sur le nombre de lignes et de colonnes\n",
    "df.shape"
   ]
  },
  {
   "cell_type": "code",
   "execution_count": 29,
   "id": "c8e83d32",
   "metadata": {},
   "outputs": [
    {
     "name": "stdout",
     "output_type": "stream",
     "text": [
      "<class 'pandas.core.frame.DataFrame'>\n",
      "RangeIndex: 50000 entries, 0 to 49999\n",
      "Data columns (total 11 columns):\n",
      " #   Column                Non-Null Count  Dtype  \n",
      "---  ------                --------------  -----  \n",
      " 0   Model                 50000 non-null  object \n",
      " 1   Year                  50000 non-null  int64  \n",
      " 2   Region                50000 non-null  object \n",
      " 3   Color                 50000 non-null  object \n",
      " 4   Fuel_Type             50000 non-null  object \n",
      " 5   Transmission          50000 non-null  object \n",
      " 6   Engine_Size_L         50000 non-null  float64\n",
      " 7   Mileage_KM            50000 non-null  int64  \n",
      " 8   Price_USD             50000 non-null  int64  \n",
      " 9   Sales_Volume          50000 non-null  int64  \n",
      " 10  Sales_Classification  50000 non-null  object \n",
      "dtypes: float64(1), int64(4), object(6)\n",
      "memory usage: 4.2+ MB\n"
     ]
    },
    {
     "data": {
      "text/plain": [
       "Index(['Model', 'Year', 'Region', 'Color', 'Fuel_Type', 'Transmission',\n",
       "       'Engine_Size_L', 'Mileage_KM', 'Price_USD', 'Sales_Volume',\n",
       "       'Sales_Classification'],\n",
       "      dtype='object')"
      ]
     },
     "execution_count": 29,
     "metadata": {},
     "output_type": "execute_result"
    }
   ],
   "source": [
    "df.info()\n",
    "df.columns"
   ]
  },
  {
   "cell_type": "code",
   "execution_count": 24,
   "id": "376fe19b",
   "metadata": {},
   "outputs": [
    {
     "data": {
      "text/plain": [
       "Model                   0\n",
       "Year                    0\n",
       "Region                  0\n",
       "Color                   0\n",
       "Fuel_Type               0\n",
       "Transmission            0\n",
       "Engine_Size_L           0\n",
       "Mileage_KM              0\n",
       "Price_USD               0\n",
       "Sales_Volume            0\n",
       "Sales_Classification    0\n",
       "dtype: int64"
      ]
     },
     "execution_count": 24,
     "metadata": {},
     "output_type": "execute_result"
    }
   ],
   "source": [
    "# vérification des données manquantes\n",
    "df.isnull().sum() "
   ]
  },
  {
   "cell_type": "code",
   "execution_count": null,
   "id": "e0b2751e",
   "metadata": {},
   "outputs": [
    {
     "data": {
      "text/html": [
       "<div>\n",
       "<style scoped>\n",
       "    .dataframe tbody tr th:only-of-type {\n",
       "        vertical-align: middle;\n",
       "    }\n",
       "\n",
       "    .dataframe tbody tr th {\n",
       "        vertical-align: top;\n",
       "    }\n",
       "\n",
       "    .dataframe thead th {\n",
       "        text-align: right;\n",
       "    }\n",
       "</style>\n",
       "<table border=\"1\" class=\"dataframe\">\n",
       "  <thead>\n",
       "    <tr style=\"text-align: right;\">\n",
       "      <th></th>\n",
       "      <th>Model</th>\n",
       "      <th>Year</th>\n",
       "      <th>Region</th>\n",
       "      <th>Color</th>\n",
       "      <th>Fuel_Type</th>\n",
       "      <th>Transmission</th>\n",
       "      <th>Engine_Size_L</th>\n",
       "      <th>Mileage_KM</th>\n",
       "      <th>Price_USD</th>\n",
       "      <th>Sales_Volume</th>\n",
       "      <th>Sales_Classification</th>\n",
       "    </tr>\n",
       "  </thead>\n",
       "  <tbody>\n",
       "    <tr>\n",
       "      <th>49995</th>\n",
       "      <td>i3</td>\n",
       "      <td>2014</td>\n",
       "      <td>Asia</td>\n",
       "      <td>Red</td>\n",
       "      <td>Hybrid</td>\n",
       "      <td>Manual</td>\n",
       "      <td>4.6</td>\n",
       "      <td>151030</td>\n",
       "      <td>42932</td>\n",
       "      <td>8182</td>\n",
       "      <td>High</td>\n",
       "    </tr>\n",
       "    <tr>\n",
       "      <th>49996</th>\n",
       "      <td>i3</td>\n",
       "      <td>2023</td>\n",
       "      <td>Middle East</td>\n",
       "      <td>Silver</td>\n",
       "      <td>Electric</td>\n",
       "      <td>Manual</td>\n",
       "      <td>4.2</td>\n",
       "      <td>147396</td>\n",
       "      <td>48714</td>\n",
       "      <td>9816</td>\n",
       "      <td>High</td>\n",
       "    </tr>\n",
       "    <tr>\n",
       "      <th>49997</th>\n",
       "      <td>5 Series</td>\n",
       "      <td>2010</td>\n",
       "      <td>Middle East</td>\n",
       "      <td>Red</td>\n",
       "      <td>Petrol</td>\n",
       "      <td>Automatic</td>\n",
       "      <td>4.5</td>\n",
       "      <td>174939</td>\n",
       "      <td>46126</td>\n",
       "      <td>8280</td>\n",
       "      <td>High</td>\n",
       "    </tr>\n",
       "    <tr>\n",
       "      <th>49998</th>\n",
       "      <td>i3</td>\n",
       "      <td>2020</td>\n",
       "      <td>Asia</td>\n",
       "      <td>White</td>\n",
       "      <td>Electric</td>\n",
       "      <td>Automatic</td>\n",
       "      <td>3.8</td>\n",
       "      <td>3379</td>\n",
       "      <td>58566</td>\n",
       "      <td>9486</td>\n",
       "      <td>High</td>\n",
       "    </tr>\n",
       "    <tr>\n",
       "      <th>49999</th>\n",
       "      <td>X1</td>\n",
       "      <td>2020</td>\n",
       "      <td>North America</td>\n",
       "      <td>Blue</td>\n",
       "      <td>Diesel</td>\n",
       "      <td>Manual</td>\n",
       "      <td>3.3</td>\n",
       "      <td>171003</td>\n",
       "      <td>77492</td>\n",
       "      <td>1764</td>\n",
       "      <td>Low</td>\n",
       "    </tr>\n",
       "  </tbody>\n",
       "</table>\n",
       "</div>"
      ],
      "text/plain": [
       "          Model  Year         Region   Color Fuel_Type Transmission  \\\n",
       "49995        i3  2014           Asia     Red    Hybrid       Manual   \n",
       "49996        i3  2023    Middle East  Silver  Electric       Manual   \n",
       "49997  5 Series  2010    Middle East     Red    Petrol    Automatic   \n",
       "49998        i3  2020           Asia   White  Electric    Automatic   \n",
       "49999        X1  2020  North America    Blue    Diesel       Manual   \n",
       "\n",
       "       Engine_Size_L  Mileage_KM  Price_USD  Sales_Volume Sales_Classification  \n",
       "49995            4.6      151030      42932          8182                 High  \n",
       "49996            4.2      147396      48714          9816                 High  \n",
       "49997            4.5      174939      46126          8280                 High  \n",
       "49998            3.8        3379      58566          9486                 High  \n",
       "49999            3.3      171003      77492          1764                  Low  "
      ]
     },
     "execution_count": 35,
     "metadata": {},
     "output_type": "execute_result"
    }
   ],
   "source": [
    "# vérification des doublons dans les jeux de données\n",
    "df.duplicated().sum()\n"
   ]
  },
  {
   "cell_type": "code",
   "execution_count": 36,
   "id": "54badddd",
   "metadata": {},
   "outputs": [
    {
     "data": {
      "text/html": [
       "<div>\n",
       "<style scoped>\n",
       "    .dataframe tbody tr th:only-of-type {\n",
       "        vertical-align: middle;\n",
       "    }\n",
       "\n",
       "    .dataframe tbody tr th {\n",
       "        vertical-align: top;\n",
       "    }\n",
       "\n",
       "    .dataframe thead th {\n",
       "        text-align: right;\n",
       "    }\n",
       "</style>\n",
       "<table border=\"1\" class=\"dataframe\">\n",
       "  <thead>\n",
       "    <tr style=\"text-align: right;\">\n",
       "      <th></th>\n",
       "      <th>Year</th>\n",
       "      <th>Engine_Size_L</th>\n",
       "      <th>Mileage_KM</th>\n",
       "      <th>Price_USD</th>\n",
       "      <th>Sales_Volume</th>\n",
       "    </tr>\n",
       "  </thead>\n",
       "  <tbody>\n",
       "    <tr>\n",
       "      <th>count</th>\n",
       "      <td>50000.000000</td>\n",
       "      <td>50000.000000</td>\n",
       "      <td>50000.000000</td>\n",
       "      <td>50000.000000</td>\n",
       "      <td>50000.000000</td>\n",
       "    </tr>\n",
       "    <tr>\n",
       "      <th>mean</th>\n",
       "      <td>2017.015700</td>\n",
       "      <td>3.247180</td>\n",
       "      <td>100307.203140</td>\n",
       "      <td>75034.600900</td>\n",
       "      <td>5067.514680</td>\n",
       "    </tr>\n",
       "    <tr>\n",
       "      <th>std</th>\n",
       "      <td>4.324459</td>\n",
       "      <td>1.009078</td>\n",
       "      <td>57941.509344</td>\n",
       "      <td>25998.248882</td>\n",
       "      <td>2856.767125</td>\n",
       "    </tr>\n",
       "    <tr>\n",
       "      <th>min</th>\n",
       "      <td>2010.000000</td>\n",
       "      <td>1.500000</td>\n",
       "      <td>3.000000</td>\n",
       "      <td>30000.000000</td>\n",
       "      <td>100.000000</td>\n",
       "    </tr>\n",
       "    <tr>\n",
       "      <th>25%</th>\n",
       "      <td>2013.000000</td>\n",
       "      <td>2.400000</td>\n",
       "      <td>50178.000000</td>\n",
       "      <td>52434.750000</td>\n",
       "      <td>2588.000000</td>\n",
       "    </tr>\n",
       "    <tr>\n",
       "      <th>50%</th>\n",
       "      <td>2017.000000</td>\n",
       "      <td>3.200000</td>\n",
       "      <td>100388.500000</td>\n",
       "      <td>75011.500000</td>\n",
       "      <td>5087.000000</td>\n",
       "    </tr>\n",
       "    <tr>\n",
       "      <th>75%</th>\n",
       "      <td>2021.000000</td>\n",
       "      <td>4.100000</td>\n",
       "      <td>150630.250000</td>\n",
       "      <td>97628.250000</td>\n",
       "      <td>7537.250000</td>\n",
       "    </tr>\n",
       "    <tr>\n",
       "      <th>max</th>\n",
       "      <td>2024.000000</td>\n",
       "      <td>5.000000</td>\n",
       "      <td>199996.000000</td>\n",
       "      <td>119998.000000</td>\n",
       "      <td>9999.000000</td>\n",
       "    </tr>\n",
       "  </tbody>\n",
       "</table>\n",
       "</div>"
      ],
      "text/plain": [
       "               Year  Engine_Size_L     Mileage_KM      Price_USD  Sales_Volume\n",
       "count  50000.000000   50000.000000   50000.000000   50000.000000  50000.000000\n",
       "mean    2017.015700       3.247180  100307.203140   75034.600900   5067.514680\n",
       "std        4.324459       1.009078   57941.509344   25998.248882   2856.767125\n",
       "min     2010.000000       1.500000       3.000000   30000.000000    100.000000\n",
       "25%     2013.000000       2.400000   50178.000000   52434.750000   2588.000000\n",
       "50%     2017.000000       3.200000  100388.500000   75011.500000   5087.000000\n",
       "75%     2021.000000       4.100000  150630.250000   97628.250000   7537.250000\n",
       "max     2024.000000       5.000000  199996.000000  119998.000000   9999.000000"
      ]
     },
     "execution_count": 36,
     "metadata": {},
     "output_type": "execute_result"
    }
   ],
   "source": [
    "# Affiche les statistiques descriptives du DataFrame\n",
    "df.describe()   "
   ]
  },
  {
   "cell_type": "code",
   "execution_count": 46,
   "id": "e41280d3",
   "metadata": {},
   "outputs": [
    {
     "data": {
      "image/png": "[encoded data removed]",
      "text/plain": [
       "<Figure size 1200x600 with 1 Axes>"
      ]
     },
     "metadata": {},
     "output_type": "display_data"
    }
   ],
   "source": [
    "# graphique de l'évolution des ventes de BMW de 2010 à 2024\n",
    "plt.figure(figsize=(12, 6))\n",
    "sns.lineplot(data=df, x='Year', y='Price_USD', marker='o')\n",
    "plt.title(\"Évolution des ventes de BMW de 2010 à 2024\")\n",
    "plt.xlabel(\"Année\")\n",
    "plt.ylabel(\"Prix (USD)\")\n",
    "plt.grid()\n",
    "plt.show()\n",
    "\n"
   ]
  },
  {
   "cell_type": "code",
   "execution_count": 9,
   "id": "3dc307ea",
   "metadata": {},
   "outputs": [
    {
     "ename": "NameError",
     "evalue": "name 'df' is not defined",
     "output_type": "error",
     "traceback": [
      "\u001b[0;31m---------------------------------------------------------------------------\u001b[0m",
      "\u001b[0;31mNameError\u001b[0m                                 Traceback (most recent call last)",
      "Cell \u001b[0;32mIn[9], line 4\u001b[0m\n\u001b[1;32m      1\u001b[0m \u001b[38;5;66;03m# comparaison entre les prix des voitures en fonction du kilométrage\u001b[39;00m\n\u001b[1;32m      3\u001b[0m plt\u001b[38;5;241m.\u001b[39mfigure(figsize\u001b[38;5;241m=\u001b[39m(\u001b[38;5;241m12\u001b[39m, \u001b[38;5;241m6\u001b[39m))\n\u001b[0;32m----> 4\u001b[0m plt\u001b[38;5;241m.\u001b[39mscatter(df[\u001b[38;5;124m'\u001b[39m\u001b[38;5;124mMileage_KM\u001b[39m\u001b[38;5;124m'\u001b[39m], df[\u001b[38;5;124m'\u001b[39m\u001b[38;5;124mPrice_USD\u001b[39m\u001b[38;5;124m'\u001b[39m], alpha\u001b[38;5;241m=\u001b[39m\u001b[38;5;241m0.5\u001b[39m)\n\u001b[1;32m      5\u001b[0m plt\u001b[38;5;241m.\u001b[39mtitle(\u001b[38;5;124m\"\u001b[39m\u001b[38;5;124mComparaison entre les prix des voitures en fonction du kilométrage\u001b[39m\u001b[38;5;124m\"\u001b[39m)\n\u001b[1;32m      6\u001b[0m plt\u001b[38;5;241m.\u001b[39mxlabel(\u001b[38;5;124m\"\u001b[39m\u001b[38;5;124mKilométrage (KM)\u001b[39m\u001b[38;5;124m\"\u001b[39m)\n",
      "\u001b[0;31mNameError\u001b[0m: name 'df' is not defined"
     ]
    },
    {
     "data": {
      "text/plain": [
       "<Figure size 1200x600 with 0 Axes>"
      ]
     },
     "metadata": {},
     "output_type": "display_data"
    }
   ],
   "source": [
    "# comparaison entre les prix des voitures en fonction du kilométrage\n",
    "\n",
    "plt.figure(figsize=(12, 6))\n",
    "plt.scatter(df['Mileage_KM'], df['Price_USD'], alpha=0.5)\n",
    "plt.title(\"Comparaison entre les prix des voitures en fonction du kilométrage\")\n",
    "plt.xlabel(\"Kilométrage (KM)\")\n",
    "plt.ylabel(\"Prix (USD)\")\n",
    "plt.grid()\n",
    "plt.show()\n"
   ]
  },
  {
   "cell_type": "code",
   "execution_count": null,
   "id": "facfe80d",
   "metadata": {},
   "outputs": [],
   "source": []
  }
 ],
 "metadata": {
  "kernelspec": {
   "display_name": "base",
   "language": "python",
   "name": "python3"
  },
  "language_info": {
   "codemirror_mode": {
    "name": "ipython",
    "version": 3
   },
   "file_extension": ".py",
   "mimetype": "text/x-python",
   "name": "python",
   "nbconvert_exporter": "python",
   "pygments_lexer": "ipython3",
   "version": "3.12.7"
  }
 },
 "nbformat": 4,
 "nbformat_minor": 5
}
